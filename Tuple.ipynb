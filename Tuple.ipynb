{
 "cells": [
  {
   "cell_type": "markdown",
   "id": "0ef1ddd5",
   "metadata": {},
   "source": [
    "# Tuple (Imutabe)"
   ]
  },
  {
   "cell_type": "code",
   "execution_count": 1,
   "id": "844ef811",
   "metadata": {},
   "outputs": [],
   "source": [
    "marks=(2,3,4,5,6,True,\"Dildar\",[1,2,3],(2,3,4),{\"Name\":\"Dildar Ali\"})"
   ]
  },
  {
   "cell_type": "code",
   "execution_count": 2,
   "id": "52305a65",
   "metadata": {},
   "outputs": [
    {
     "data": {
      "text/plain": [
       "6"
      ]
     },
     "execution_count": 2,
     "metadata": {},
     "output_type": "execute_result"
    }
   ],
   "source": [
    "marks[4]"
   ]
  },
  {
   "cell_type": "code",
   "execution_count": 3,
   "id": "b477b853",
   "metadata": {},
   "outputs": [
    {
     "data": {
      "text/plain": [
       "'l'"
      ]
     },
     "execution_count": 3,
     "metadata": {},
     "output_type": "execute_result"
    }
   ],
   "source": [
    "marks[6][2]"
   ]
  },
  {
   "cell_type": "code",
   "execution_count": 4,
   "id": "77eee45c",
   "metadata": {},
   "outputs": [
    {
     "data": {
      "text/plain": [
       "'Dildar Ali'"
      ]
     },
     "execution_count": 4,
     "metadata": {},
     "output_type": "execute_result"
    }
   ],
   "source": [
    "marks[9][\"Name\"]"
   ]
  },
  {
   "cell_type": "code",
   "execution_count": 7,
   "id": "c853da5f",
   "metadata": {},
   "outputs": [],
   "source": [
    "marks[9][\"Name\"]=\"Ali\""
   ]
  },
  {
   "cell_type": "code",
   "execution_count": 8,
   "id": "c95d36b8",
   "metadata": {},
   "outputs": [
    {
     "data": {
      "text/plain": [
       "'Ali'"
      ]
     },
     "execution_count": 8,
     "metadata": {},
     "output_type": "execute_result"
    }
   ],
   "source": [
    "marks[9][\"Name\"]"
   ]
  },
  {
   "cell_type": "code",
   "execution_count": 5,
   "id": "99dedbcb",
   "metadata": {},
   "outputs": [
    {
     "data": {
      "text/plain": [
       "(2, 3, 4, 5, 6, True, 'Dildar', [1, 2, 3], (2, 3, 4), {'Name': 'Dildar Ali'})"
      ]
     },
     "execution_count": 5,
     "metadata": {},
     "output_type": "execute_result"
    }
   ],
   "source": [
    "marks[:]"
   ]
  },
  {
   "cell_type": "code",
   "execution_count": 6,
   "id": "674bbe98",
   "metadata": {},
   "outputs": [
    {
     "ename": "TypeError",
     "evalue": "'tuple' object does not support item assignment",
     "output_type": "error",
     "traceback": [
      "\u001b[1;31m---------------------------------------------------------------------------\u001b[0m",
      "\u001b[1;31mTypeError\u001b[0m                                 Traceback (most recent call last)",
      "\u001b[1;32mC:\\Users\\LAB02R~1\\AppData\\Local\\Temp/ipykernel_7680/2858332377.py\u001b[0m in \u001b[0;36m<module>\u001b[1;34m\u001b[0m\n\u001b[1;32m----> 1\u001b[1;33m \u001b[0mmarks\u001b[0m\u001b[1;33m[\u001b[0m\u001b[1;36m0\u001b[0m\u001b[1;33m]\u001b[0m\u001b[1;33m=\u001b[0m\u001b[1;36m3\u001b[0m\u001b[1;33m\u001b[0m\u001b[1;33m\u001b[0m\u001b[0m\n\u001b[0m",
      "\u001b[1;31mTypeError\u001b[0m: 'tuple' object does not support item assignment"
     ]
    }
   ],
   "source": [
    "marks[0]=3"
   ]
  },
  {
   "cell_type": "code",
   "execution_count": 9,
   "id": "41601ffa",
   "metadata": {},
   "outputs": [
    {
     "data": {
      "text/plain": [
       "1"
      ]
     },
     "execution_count": 9,
     "metadata": {},
     "output_type": "execute_result"
    }
   ],
   "source": [
    "marks.count(2)"
   ]
  },
  {
   "cell_type": "code",
   "execution_count": 14,
   "id": "9b54b3c0",
   "metadata": {},
   "outputs": [
    {
     "data": {
      "text/plain": [
       "5"
      ]
     },
     "execution_count": 14,
     "metadata": {},
     "output_type": "execute_result"
    }
   ],
   "source": [
    "marks.index(True)"
   ]
  },
  {
   "cell_type": "code",
   "execution_count": 15,
   "id": "60beb39c",
   "metadata": {},
   "outputs": [
    {
     "data": {
      "text/plain": [
       "dict"
      ]
     },
     "execution_count": 15,
     "metadata": {},
     "output_type": "execute_result"
    }
   ],
   "source": [
    "my_set={}\n",
    "type(my_set)"
   ]
  },
  {
   "cell_type": "code",
   "execution_count": 16,
   "id": "98a3e733",
   "metadata": {},
   "outputs": [
    {
     "data": {
      "text/plain": [
       "set"
      ]
     },
     "execution_count": 16,
     "metadata": {},
     "output_type": "execute_result"
    }
   ],
   "source": [
    "my_set={2,3}\n",
    "type(my_set)"
   ]
  },
  {
   "cell_type": "code",
   "execution_count": 17,
   "id": "41e68060",
   "metadata": {},
   "outputs": [
    {
     "data": {
      "text/plain": [
       "{1, 2, 3, 4, 5}"
      ]
     },
     "execution_count": 17,
     "metadata": {},
     "output_type": "execute_result"
    }
   ],
   "source": [
    "my_set={1,1,2,2,3,3,3,4,4,4,4,4,5,5,5,5,5}\n",
    "my_set"
   ]
  },
  {
   "cell_type": "code",
   "execution_count": 20,
   "id": "67d842e7",
   "metadata": {},
   "outputs": [
    {
     "name": "stdout",
     "output_type": "stream",
     "text": [
      "[11, 22, 33, 44, 55]\n"
     ]
    }
   ],
   "source": [
    "alist=[11,22,33,44,22,33,55]\n",
    "new_list=[]\n",
    "for a in alist:\n",
    "    if a not in new_list:\n",
    "        new_list.append(a)\n",
    "print(new_list)        \n",
    "    "
   ]
  },
  {
   "cell_type": "code",
   "execution_count": 21,
   "id": "bdc3b690",
   "metadata": {},
   "outputs": [
    {
     "data": {
      "text/plain": [
       "[11, 22, 33, 44, 22, 33, 55]"
      ]
     },
     "execution_count": 21,
     "metadata": {},
     "output_type": "execute_result"
    }
   ],
   "source": [
    "alist"
   ]
  },
  {
   "cell_type": "code",
   "execution_count": 26,
   "id": "fabebb75",
   "metadata": {},
   "outputs": [
    {
     "ename": "SyntaxError",
     "evalue": "invalid syntax (Temp/ipykernel_7680/239263759.py, line 2)",
     "output_type": "error",
     "traceback": [
      "\u001b[1;36m  File \u001b[1;32m\"C:\\Users\\LAB02R~1\\AppData\\Local\\Temp/ipykernel_7680/239263759.py\"\u001b[1;36m, line \u001b[1;32m2\u001b[0m\n\u001b[1;33m    print(alist)\u001b[0m\n\u001b[1;37m    ^\u001b[0m\n\u001b[1;31mSyntaxError\u001b[0m\u001b[1;31m:\u001b[0m invalid syntax\n"
     ]
    }
   ],
   "source": [
    "alist=list(set(alist)\n",
    "print(alist)"
   ]
  },
  {
   "cell_type": "code",
   "execution_count": 28,
   "id": "e46be309",
   "metadata": {},
   "outputs": [
    {
     "data": {
      "text/plain": [
       "{1, 2, 3, 4, 5}"
      ]
     },
     "execution_count": 28,
     "metadata": {},
     "output_type": "execute_result"
    }
   ],
   "source": [
    "my_set"
   ]
  },
  {
   "cell_type": "code",
   "execution_count": 29,
   "id": "87c5b05b",
   "metadata": {},
   "outputs": [],
   "source": [
    "my_set.add(200)"
   ]
  },
  {
   "cell_type": "code",
   "execution_count": 30,
   "id": "5b827957",
   "metadata": {},
   "outputs": [
    {
     "data": {
      "text/plain": [
       "{1, 2, 3, 4, 5, 200}"
      ]
     },
     "execution_count": 30,
     "metadata": {},
     "output_type": "execute_result"
    }
   ],
   "source": [
    "my_set"
   ]
  },
  {
   "cell_type": "code",
   "execution_count": 31,
   "id": "6251230b",
   "metadata": {},
   "outputs": [
    {
     "data": {
      "text/plain": [
       "{1, 2, 3, 4, 5}"
      ]
     },
     "execution_count": 31,
     "metadata": {},
     "output_type": "execute_result"
    }
   ],
   "source": [
    "my_set.discard(200)        #not returns error\n",
    "my_set"
   ]
  },
  {
   "cell_type": "code",
   "execution_count": 32,
   "id": "c6d93bec",
   "metadata": {},
   "outputs": [
    {
     "data": {
      "text/plain": [
       "{1, 2, 4}"
      ]
     },
     "execution_count": 32,
     "metadata": {},
     "output_type": "execute_result"
    }
   ],
   "source": [
    "my_set={0,1,2,3,4}\n",
    "new_set={1,2,4}\n",
    "my_set.intersection(new_set)"
   ]
  },
  {
   "cell_type": "code",
   "execution_count": 33,
   "id": "df8465ec",
   "metadata": {},
   "outputs": [
    {
     "data": {
      "text/plain": [
       "set()"
      ]
     },
     "execution_count": 33,
     "metadata": {},
     "output_type": "execute_result"
    }
   ],
   "source": [
    "my_set.clear()\n",
    "my_set"
   ]
  },
  {
   "cell_type": "code",
   "execution_count": 34,
   "id": "5ae0b955",
   "metadata": {},
   "outputs": [
    {
     "data": {
      "text/plain": [
       "{3, 5, 7}"
      ]
     },
     "execution_count": 34,
     "metadata": {},
     "output_type": "execute_result"
    }
   ],
   "source": [
    "my_set={2,3,4,5,6,7}\n",
    "new_set={2,4,6}\n",
    "my_set.difference(new_set)"
   ]
  },
  {
   "cell_type": "code",
   "execution_count": 37,
   "id": "238eef67",
   "metadata": {},
   "outputs": [],
   "source": [
    "my_set={2,3,4,5,6,7}\n",
    "new_set={2,4,6}\n"
   ]
  },
  {
   "cell_type": "code",
   "execution_count": 38,
   "id": "77f6a39e",
   "metadata": {},
   "outputs": [
    {
     "data": {
      "text/plain": [
       "{2, 3, 4, 5, 6, 7}"
      ]
     },
     "execution_count": 38,
     "metadata": {},
     "output_type": "execute_result"
    }
   ],
   "source": [
    "my_set"
   ]
  },
  {
   "cell_type": "code",
   "execution_count": 39,
   "id": "c2f55d11",
   "metadata": {},
   "outputs": [
    {
     "data": {
      "text/plain": [
       "{2, 4, 6}"
      ]
     },
     "execution_count": 39,
     "metadata": {},
     "output_type": "execute_result"
    }
   ],
   "source": [
    "new_set"
   ]
  },
  {
   "cell_type": "code",
   "execution_count": 41,
   "id": "829bdee5",
   "metadata": {},
   "outputs": [
    {
     "data": {
      "text/plain": [
       "{3, 5, 7}"
      ]
     },
     "execution_count": 41,
     "metadata": {},
     "output_type": "execute_result"
    }
   ],
   "source": [
    "my_set.difference_update(new_set)\n",
    "my_set"
   ]
  },
  {
   "cell_type": "code",
   "execution_count": 44,
   "id": "89a5994a",
   "metadata": {},
   "outputs": [],
   "source": [
    "my_set={0,1,2,3,5}\n",
    "my_set.intersection_update()"
   ]
  },
  {
   "cell_type": "code",
   "execution_count": 45,
   "id": "ddb328a3",
   "metadata": {},
   "outputs": [
    {
     "data": {
      "text/plain": [
       "{0, 1, 2, 3, 5}"
      ]
     },
     "execution_count": 45,
     "metadata": {},
     "output_type": "execute_result"
    }
   ],
   "source": [
    "my_set"
   ]
  },
  {
   "cell_type": "code",
   "execution_count": 47,
   "id": "d2caddd7",
   "metadata": {},
   "outputs": [
    {
     "data": {
      "text/plain": [
       "True"
      ]
     },
     "execution_count": 47,
     "metadata": {},
     "output_type": "execute_result"
    }
   ],
   "source": [
    "new_set={4,6,8,9,10}\n",
    "my_set.isdisjoint(new_set)"
   ]
  },
  {
   "cell_type": "code",
   "execution_count": 48,
   "id": "36be7fc5",
   "metadata": {},
   "outputs": [
    {
     "data": {
      "text/plain": [
       "False"
      ]
     },
     "execution_count": 48,
     "metadata": {},
     "output_type": "execute_result"
    }
   ],
   "source": [
    "my_set.issubset(new_set)"
   ]
  },
  {
   "cell_type": "code",
   "execution_count": 49,
   "id": "0004e7a8",
   "metadata": {},
   "outputs": [
    {
     "data": {
      "text/plain": [
       "True"
      ]
     },
     "execution_count": 49,
     "metadata": {},
     "output_type": "execute_result"
    }
   ],
   "source": [
    "my_set={0,1,2}\n",
    "new_set={0,1,2}\n",
    "my_set.issubset(new_set)"
   ]
  },
  {
   "cell_type": "code",
   "execution_count": 50,
   "id": "8607941c",
   "metadata": {},
   "outputs": [
    {
     "data": {
      "text/plain": [
       "False"
      ]
     },
     "execution_count": 50,
     "metadata": {},
     "output_type": "execute_result"
    }
   ],
   "source": [
    "my_set={2,3,4,5}\n",
    "my_set.issuperset(new_set)"
   ]
  },
  {
   "cell_type": "code",
   "execution_count": 51,
   "id": "f0460df6",
   "metadata": {},
   "outputs": [
    {
     "data": {
      "text/plain": [
       "2"
      ]
     },
     "execution_count": 51,
     "metadata": {},
     "output_type": "execute_result"
    }
   ],
   "source": [
    "my_set.pop()"
   ]
  },
  {
   "cell_type": "code",
   "execution_count": 52,
   "id": "3b058421",
   "metadata": {},
   "outputs": [
    {
     "data": {
      "text/plain": [
       "{3, 4, 5}"
      ]
     },
     "execution_count": 52,
     "metadata": {},
     "output_type": "execute_result"
    }
   ],
   "source": [
    "my_set"
   ]
  },
  {
   "cell_type": "code",
   "execution_count": 53,
   "id": "e460f0dd",
   "metadata": {},
   "outputs": [],
   "source": [
    "my_set.remove(4)"
   ]
  },
  {
   "cell_type": "code",
   "execution_count": 54,
   "id": "8597d5a2",
   "metadata": {},
   "outputs": [
    {
     "data": {
      "text/plain": [
       "{3, 5}"
      ]
     },
     "execution_count": 54,
     "metadata": {},
     "output_type": "execute_result"
    }
   ],
   "source": [
    "my_set"
   ]
  },
  {
   "cell_type": "code",
   "execution_count": 60,
   "id": "2aedd7b5",
   "metadata": {},
   "outputs": [
    {
     "data": {
      "text/plain": [
       "{1, 4, 6}"
      ]
     },
     "execution_count": 60,
     "metadata": {},
     "output_type": "execute_result"
    }
   ],
   "source": [
    "my_set={1,2,3,4,5}\n",
    "new_set={2,3,5,6}\n",
    "my_set.symmetric_difference(new_set)"
   ]
  },
  {
   "cell_type": "code",
   "execution_count": 61,
   "id": "8cf21812",
   "metadata": {},
   "outputs": [],
   "source": [
    "my_set={1,2,3,4,5}\n",
    "new_set={2,3,5,6}\n",
    "my_set.symmetric_difference_update(new_set)"
   ]
  },
  {
   "cell_type": "code",
   "execution_count": 62,
   "id": "fe45298d",
   "metadata": {},
   "outputs": [
    {
     "data": {
      "text/plain": [
       "{1, 4, 6}"
      ]
     },
     "execution_count": 62,
     "metadata": {},
     "output_type": "execute_result"
    }
   ],
   "source": [
    "my_set"
   ]
  },
  {
   "cell_type": "code",
   "execution_count": 63,
   "id": "e8755506",
   "metadata": {},
   "outputs": [
    {
     "data": {
      "text/plain": [
       "{1, 2, 3, 4, 5, 6}"
      ]
     },
     "execution_count": 63,
     "metadata": {},
     "output_type": "execute_result"
    }
   ],
   "source": [
    "my_set={1,2,3,4,5}\n",
    "new_set={2,3,5,6}\n",
    "my_set.union(new_set)"
   ]
  },
  {
   "cell_type": "code",
   "execution_count": 67,
   "id": "ada73a2c",
   "metadata": {},
   "outputs": [],
   "source": [
    "my_set={1,2,3,4,5}\n",
    "new_set={2,3,5,6,7,8}\n",
    "my_set.update(new_set)"
   ]
  },
  {
   "cell_type": "code",
   "execution_count": 68,
   "id": "81c27627",
   "metadata": {},
   "outputs": [
    {
     "data": {
      "text/plain": [
       "{1, 2, 3, 4, 5, 6, 7, 8}"
      ]
     },
     "execution_count": 68,
     "metadata": {},
     "output_type": "execute_result"
    }
   ],
   "source": [
    "my_set"
   ]
  },
  {
   "cell_type": "code",
   "execution_count": 69,
   "id": "d2e1c188",
   "metadata": {},
   "outputs": [
    {
     "data": {
      "text/plain": [
       "{1, 2, 3, 4, 5, 6, 7, 8}"
      ]
     },
     "execution_count": 69,
     "metadata": {},
     "output_type": "execute_result"
    }
   ],
   "source": [
    "new_set=my_set.copy()\n",
    "new_set"
   ]
  },
  {
   "cell_type": "code",
   "execution_count": 70,
   "id": "4205ef62",
   "metadata": {},
   "outputs": [
    {
     "data": {
      "text/plain": [
       "{1, 2, 3, 4, 5, 6, 7, 8, 1860}"
      ]
     },
     "execution_count": 70,
     "metadata": {},
     "output_type": "execute_result"
    }
   ],
   "source": [
    "my_set.add(1860)\n",
    "my_set"
   ]
  },
  {
   "cell_type": "markdown",
   "id": "6b8e4b80",
   "metadata": {},
   "source": [
    "# Functions\n",
    "* built_in_dunctions\n",
    "* user_defined_functions"
   ]
  },
  {
   "cell_type": "code",
   "execution_count": 71,
   "id": "05bba4d3",
   "metadata": {},
   "outputs": [],
   "source": [
    "#Function defination\n",
    "\n",
    "def mean(arr):#Parameter         #multiple values ayengi array k shakal m\n",
    "    total=0\n",
    "    for a in arr:\n",
    "        total += a\n",
    "    return total/len(arr)    "
   ]
  },
  {
   "cell_type": "code",
   "execution_count": 72,
   "id": "e4dd21fb",
   "metadata": {},
   "outputs": [
    {
     "data": {
      "text/plain": [
       "5.0"
      ]
     },
     "execution_count": 72,
     "metadata": {},
     "output_type": "execute_result"
    }
   ],
   "source": [
    "#Call\n",
    "mean([1,2,3,4,5,6,7,8,9]) #argument"
   ]
  },
  {
   "cell_type": "code",
   "execution_count": 73,
   "id": "8e6d4738",
   "metadata": {},
   "outputs": [
    {
     "data": {
      "text/plain": [
       "26.428571428571427"
      ]
     },
     "execution_count": 73,
     "metadata": {},
     "output_type": "execute_result"
    }
   ],
   "source": [
    "mean([2,3,4,5,6,77,88])"
   ]
  },
  {
   "cell_type": "code",
   "execution_count": 2,
   "id": "15d9fbb2",
   "metadata": {},
   "outputs": [],
   "source": [
    "#define\n",
    "def say_hello():\n",
    "    \n",
    "    print(\"Hello Freinds\")\n",
    "#Parameterless function    "
   ]
  },
  {
   "cell_type": "code",
   "execution_count": 6,
   "id": "ac09d683",
   "metadata": {},
   "outputs": [
    {
     "name": "stdout",
     "output_type": "stream",
     "text": [
      "Hello Freinds\n"
     ]
    }
   ],
   "source": [
    "#call\n",
    "say_hello()"
   ]
  },
  {
   "cell_type": "code",
   "execution_count": 4,
   "id": "7f65d23e",
   "metadata": {},
   "outputs": [],
   "source": [
    "def a():\n",
    "    print(\"Hi Dildar\")"
   ]
  },
  {
   "cell_type": "code",
   "execution_count": 7,
   "id": "1ff1cf0d",
   "metadata": {},
   "outputs": [
    {
     "name": "stdout",
     "output_type": "stream",
     "text": [
      "Hi Dildar\n"
     ]
    }
   ],
   "source": [
    "a()"
   ]
  },
  {
   "cell_type": "code",
   "execution_count": 16,
   "id": "10de2277",
   "metadata": {},
   "outputs": [],
   "source": [
    "def say_salam(name):\n",
    "    print(f\"Assalam.o.Alaikum Mr.{name}\")\n",
    "#Parametrised function    "
   ]
  },
  {
   "cell_type": "code",
   "execution_count": 17,
   "id": "702d6653",
   "metadata": {},
   "outputs": [
    {
     "ename": "TypeError",
     "evalue": "say_salam() missing 1 required positional argument: 'name'",
     "output_type": "error",
     "traceback": [
      "\u001b[1;31m---------------------------------------------------------------------------\u001b[0m",
      "\u001b[1;31mTypeError\u001b[0m                                 Traceback (most recent call last)",
      "\u001b[1;32mC:\\Users\\LAB02R~1\\AppData\\Local\\Temp/ipykernel_12000/3078760585.py\u001b[0m in \u001b[0;36m<module>\u001b[1;34m\u001b[0m\n\u001b[1;32m----> 1\u001b[1;33m \u001b[0msay_salam\u001b[0m\u001b[1;33m(\u001b[0m\u001b[1;33m)\u001b[0m\u001b[1;33m\u001b[0m\u001b[1;33m\u001b[0m\u001b[0m\n\u001b[0m",
      "\u001b[1;31mTypeError\u001b[0m: say_salam() missing 1 required positional argument: 'name'"
     ]
    }
   ],
   "source": [
    "say_salam()"
   ]
  },
  {
   "cell_type": "code",
   "execution_count": 18,
   "id": "61888a36",
   "metadata": {},
   "outputs": [
    {
     "name": "stdout",
     "output_type": "stream",
     "text": [
      "Assalam.o.Alaikum Mr.Dildar\n"
     ]
    }
   ],
   "source": [
    "say_salam(\"Dildar\")"
   ]
  },
  {
   "cell_type": "code",
   "execution_count": 19,
   "id": "d0e5d63a",
   "metadata": {},
   "outputs": [
    {
     "name": "stdout",
     "output_type": "stream",
     "text": [
      "Assalam.o.Alaikum Mr.Kazim\n"
     ]
    }
   ],
   "source": [
    "say_salam(\"Kazim\")"
   ]
  },
  {
   "cell_type": "code",
   "execution_count": 20,
   "id": "8745258e",
   "metadata": {},
   "outputs": [
    {
     "name": "stdout",
     "output_type": "stream",
     "text": [
      "Assalam.o.Alaikum Mr.Bilal\n"
     ]
    }
   ],
   "source": [
    "say_salam(\"Bilal\")"
   ]
  },
  {
   "cell_type": "code",
   "execution_count": 25,
   "id": "4d7d0a82",
   "metadata": {},
   "outputs": [],
   "source": [
    "def lower_text(para):\n",
    "    print(para.lower())"
   ]
  },
  {
   "cell_type": "code",
   "execution_count": 26,
   "id": "1b6ea38c",
   "metadata": {},
   "outputs": [
    {
     "name": "stdout",
     "output_type": "stream",
     "text": [
      "dildar\n"
     ]
    }
   ],
   "source": [
    "lower_text(\"DILDAR\")"
   ]
  },
  {
   "cell_type": "code",
   "execution_count": 105,
   "id": "d4626eb8",
   "metadata": {},
   "outputs": [],
   "source": [
    "def count_chr(character):\n",
    "    a=len(character)\n",
    "    print(f\"There are {a} characters in your paragraph.\")\n",
    "   "
   ]
  },
  {
   "cell_type": "code",
   "execution_count": 106,
   "id": "5367982b",
   "metadata": {},
   "outputs": [
    {
     "name": "stdout",
     "output_type": "stream",
     "text": [
      "There are 18 characters in your paragraph.\n"
     ]
    }
   ],
   "source": [
    "count_chr(\"Hello all dear....\")"
   ]
  },
  {
   "cell_type": "code",
   "execution_count": 107,
   "id": "9d96271b",
   "metadata": {},
   "outputs": [],
   "source": [
    "def count_word(word):\n",
    "    a=word.split(' ')\n",
    "    print(f\"There are {len(a)} words in your paragraph.\")"
   ]
  },
  {
   "cell_type": "code",
   "execution_count": 101,
   "id": "e683778b",
   "metadata": {},
   "outputs": [
    {
     "name": "stdout",
     "output_type": "stream",
     "text": [
      "There are 3 words in your paragraph.\n"
     ]
    }
   ],
   "source": [
    "count_word(\"Alhadulillah for Everything!\")"
   ]
  },
  {
   "cell_type": "code",
   "execution_count": 115,
   "id": "b7e3112c",
   "metadata": {},
   "outputs": [],
   "source": [
    "def count_sentence(sentence):\n",
    "    a=sentence.split(\". \")\n",
    "    print(f\"There are {len(a)} sentences in your paragraph.\")\n",
    "    "
   ]
  },
  {
   "cell_type": "code",
   "execution_count": 116,
   "id": "4b19c842",
   "metadata": {},
   "outputs": [
    {
     "name": "stdout",
     "output_type": "stream",
     "text": [
      "There are 3 sentences in your paragraph.\n"
     ]
    }
   ],
   "source": [
    "count_sentence(\"Hello dear. My name is Dildar Ali. I'm student of AI & Ds.\")"
   ]
  },
  {
   "cell_type": "code",
   "execution_count": null,
   "id": "dc11f08c",
   "metadata": {},
   "outputs": [],
   "source": [
    "def count_chr(character):\n",
    "    a=len(character)\n",
    "    print(f\"There are {a} characters in your paragraph.\")"
   ]
  }
 ],
 "metadata": {
  "kernelspec": {
   "display_name": "Python 3 (ipykernel)",
   "language": "python",
   "name": "python3"
  },
  "language_info": {
   "codemirror_mode": {
    "name": "ipython",
    "version": 3
   },
   "file_extension": ".py",
   "mimetype": "text/x-python",
   "name": "python",
   "nbconvert_exporter": "python",
   "pygments_lexer": "ipython3",
   "version": "3.9.7"
  }
 },
 "nbformat": 4,
 "nbformat_minor": 5
}
